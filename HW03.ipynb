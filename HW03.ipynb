{
 "cells": [
  {
   "cell_type": "code",
   "execution_count": 4,
   "metadata": {},
   "outputs": [],
   "source": [
    "import re\n",
    "import jieba\n",
    "import jieba.analyse\n",
    "import pandas as pd\n",
    "from sklearn.feature_extraction.text import CountVectorizer\n",
    "from sklearn.feature_extraction.text import TfidfTransformer\n",
    "from sklearn import metrics\n",
    "from sklearn.neighbors import KNeighborsClassifier\n",
    "from sklearn.model_selection import train_test_split"
   ]
  },
  {
   "cell_type": "code",
   "execution_count": 8,
   "metadata": {},
   "outputs": [],
   "source": [
    "def CUT(df):\n",
    "    typ=[]\n",
    "    for i in df['類型']:\n",
    "        ch=re.compile(\"\\u4e00-\\u9fa5\")\n",
    "        seg_word= \"\".join(ch.findall(i))\n",
    "        top=jieba.lcut(seg_word)\n",
    "        typ.append(top)\n",
    "        \n",
    "    nam=[]\n",
    "    for i in df['名稱']:\n",
    "        ch=re.compile(\"\\u4e00-\\u9fa5\")\n",
    "        name = \"\".join(ch.findall(i))\n",
    "        nam.append(name)\n",
    "        \n",
    "    intro=[]\n",
    "    for i in df['簡介']:\n",
    "        top=jirba.analyse.extract_tags(i,topK=2)\n",
    "        intro.append(top)\n",
    "        \n",
    "    data={'type':typ ,'name':nam,'article':intro}\n",
    "    df1=pd.DataFrame(data)\n",
    "    \n",
    "    df1['type'] = df1['type'].apply(lambda x :  str(x)[1:-2].replace(\"'\",\"\").replace(\",\",\"\"))\n",
    "    df1['article'] = df1['article'].apply(lambda x :  str(x)[1:-2].replace(\"'\",\"\").replace(\",\",\"\"))\n",
    "    df1['key'] = df1['name'].astype(str)+' '+df1['type'].astype(str)+' '+df1['article'].astype(str)\n",
    "    return df1"
   ]
  },
  {
   "cell_type": "code",
   "execution_count": 9,
   "metadata": {},
   "outputs": [],
   "source": [
    "def count(df):\n",
    "    vector=CountVectorizor()\n",
    "    k=vectorizer.fit_transform(df['key'])\n",
    "    TFidf=TfidfTransformer()\n",
    "    tf=TFidf.fit_transform(k)\n",
    "    word=vectorizer.get_feature_names()\n",
    "    \n",
    "    return tf"
   ]
  },
  {
   "cell_type": "code",
   "execution_count": null,
   "metadata": {},
   "outputs": [],
   "source": []
  }
 ],
 "metadata": {
  "kernelspec": {
   "display_name": "Python 3",
   "language": "python",
   "name": "python3"
  },
  "language_info": {
   "codemirror_mode": {
    "name": "ipython",
    "version": 3
   },
   "file_extension": ".py",
   "mimetype": "text/x-python",
   "name": "python",
   "nbconvert_exporter": "python",
   "pygments_lexer": "ipython3",
   "version": "3.7.6"
  }
 },
 "nbformat": 4,
 "nbformat_minor": 4
}
